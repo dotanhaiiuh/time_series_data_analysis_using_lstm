{
  "nbformat": 4,
  "nbformat_minor": 0,
  "metadata": {
    "colab": {
      "name": "PhanTichDuLieuChuoiThoiGian.ipynb",
      "provenance": [],
      "collapsed_sections": []
    },
    "kernelspec": {
      "name": "python3",
      "display_name": "Python 3"
    },
    "language_info": {
      "name": "python"
    },
    "accelerator": "GPU"
  },
  "cells": [
    {
      "cell_type": "code",
      "metadata": {
        "id": "7YHwH27Jei8b"
      },
      "source": [
        "import pandas as pd"
      ],
      "execution_count": 1,
      "outputs": []
    },
    {
      "cell_type": "code",
      "metadata": {
        "colab": {
          "base_uri": "https://localhost:8080/",
          "height": 422
        },
        "id": "Sxan_tbAe3z6",
        "outputId": "a9b3c7a4-18fd-49d4-b06d-6238c5bb97db"
      },
      "source": [
        "pd.read_excel('/content/drive/MyDrive/DataSet/DataTimeSeries.xlsx')"
      ],
      "execution_count": 2,
      "outputs": [
        {
          "output_type": "execute_result",
          "data": {
            "text/html": [
              "<div>\n",
              "<style scoped>\n",
              "    .dataframe tbody tr th:only-of-type {\n",
              "        vertical-align: middle;\n",
              "    }\n",
              "\n",
              "    .dataframe tbody tr th {\n",
              "        vertical-align: top;\n",
              "    }\n",
              "\n",
              "    .dataframe thead th {\n",
              "        text-align: right;\n",
              "    }\n",
              "</style>\n",
              "<table border=\"1\" class=\"dataframe\">\n",
              "  <thead>\n",
              "    <tr style=\"text-align: right;\">\n",
              "      <th></th>\n",
              "      <th>Ngày</th>\n",
              "      <th>Mở cửa</th>\n",
              "      <th>Đóng cửa</th>\n",
              "      <th>Cao nhất</th>\n",
              "      <th>Thấp nhất</th>\n",
              "    </tr>\n",
              "  </thead>\n",
              "  <tbody>\n",
              "    <tr>\n",
              "      <th>0</th>\n",
              "      <td>28/09/2021</td>\n",
              "      <td>88800</td>\n",
              "      <td>89300</td>\n",
              "      <td>89900</td>\n",
              "      <td>88000</td>\n",
              "    </tr>\n",
              "    <tr>\n",
              "      <th>1</th>\n",
              "      <td>27/09/2021</td>\n",
              "      <td>90600</td>\n",
              "      <td>88800</td>\n",
              "      <td>91400</td>\n",
              "      <td>88800</td>\n",
              "    </tr>\n",
              "    <tr>\n",
              "      <th>2</th>\n",
              "      <td>24/09/2021</td>\n",
              "      <td>91000</td>\n",
              "      <td>90700</td>\n",
              "      <td>91400</td>\n",
              "      <td>90500</td>\n",
              "    </tr>\n",
              "    <tr>\n",
              "      <th>3</th>\n",
              "      <td>23/09/2021</td>\n",
              "      <td>91500</td>\n",
              "      <td>90800</td>\n",
              "      <td>92400</td>\n",
              "      <td>90400</td>\n",
              "    </tr>\n",
              "    <tr>\n",
              "      <th>4</th>\n",
              "      <td>22/09/2021</td>\n",
              "      <td>88500</td>\n",
              "      <td>91500</td>\n",
              "      <td>91700</td>\n",
              "      <td>88500</td>\n",
              "    </tr>\n",
              "    <tr>\n",
              "      <th>...</th>\n",
              "      <td>...</td>\n",
              "      <td>...</td>\n",
              "      <td>...</td>\n",
              "      <td>...</td>\n",
              "      <td>...</td>\n",
              "    </tr>\n",
              "    <tr>\n",
              "      <th>1676</th>\n",
              "      <td>2015-09-01 00:00:00</td>\n",
              "      <td>99500</td>\n",
              "      <td>103000</td>\n",
              "      <td>103000</td>\n",
              "      <td>99000</td>\n",
              "    </tr>\n",
              "    <tr>\n",
              "      <th>1677</th>\n",
              "      <td>2015-08-01 00:00:00</td>\n",
              "      <td>98000</td>\n",
              "      <td>98500</td>\n",
              "      <td>99000</td>\n",
              "      <td>97500</td>\n",
              "    </tr>\n",
              "    <tr>\n",
              "      <th>1678</th>\n",
              "      <td>2015-07-01 00:00:00</td>\n",
              "      <td>96000</td>\n",
              "      <td>98000</td>\n",
              "      <td>98500</td>\n",
              "      <td>96000</td>\n",
              "    </tr>\n",
              "    <tr>\n",
              "      <th>1679</th>\n",
              "      <td>2015-06-01 00:00:00</td>\n",
              "      <td>96000</td>\n",
              "      <td>96000</td>\n",
              "      <td>97000</td>\n",
              "      <td>95000</td>\n",
              "    </tr>\n",
              "    <tr>\n",
              "      <th>1680</th>\n",
              "      <td>2015-05-01 00:00:00</td>\n",
              "      <td>96000</td>\n",
              "      <td>96000</td>\n",
              "      <td>96500</td>\n",
              "      <td>95500</td>\n",
              "    </tr>\n",
              "  </tbody>\n",
              "</table>\n",
              "<p>1681 rows × 5 columns</p>\n",
              "</div>"
            ],
            "text/plain": [
              "                     Ngày  Mở cửa  Đóng cửa  Cao nhất  Thấp nhất\n",
              "0              28/09/2021   88800     89300     89900      88000\n",
              "1              27/09/2021   90600     88800     91400      88800\n",
              "2              24/09/2021   91000     90700     91400      90500\n",
              "3              23/09/2021   91500     90800     92400      90400\n",
              "4              22/09/2021   88500     91500     91700      88500\n",
              "...                   ...     ...       ...       ...        ...\n",
              "1676  2015-09-01 00:00:00   99500    103000    103000      99000\n",
              "1677  2015-08-01 00:00:00   98000     98500     99000      97500\n",
              "1678  2015-07-01 00:00:00   96000     98000     98500      96000\n",
              "1679  2015-06-01 00:00:00   96000     96000     97000      95000\n",
              "1680  2015-05-01 00:00:00   96000     96000     96500      95500\n",
              "\n",
              "[1681 rows x 5 columns]"
            ]
          },
          "metadata": {},
          "execution_count": 2
        }
      ]
    },
    {
      "cell_type": "code",
      "metadata": {
        "id": "rL5bLyvkfX1m"
      },
      "source": [
        "import numpy as np\n",
        "import matplotlib.pyplot as plt\n",
        "import os.path\n",
        "from os import path\n",
        "from keras.models import Sequential\n",
        "from keras.layers import Dense, LSTM, Dropout\n",
        "from sklearn.model_selection import train_test_split"
      ],
      "execution_count": 3,
      "outputs": []
    },
    {
      "cell_type": "code",
      "metadata": {
        "colab": {
          "base_uri": "https://localhost:8080/"
        },
        "id": "nb6s2W1pf2g-",
        "outputId": "191a71c7-cf8a-43d2-d432-a5771607f080"
      },
      "source": [
        "training_set = pd.read_excel('/content/drive/MyDrive/DataSet/DataTimeSeries.xlsx').iloc[:,1:5].values\n",
        "print(training_set)"
      ],
      "execution_count": 4,
      "outputs": [
        {
          "output_type": "stream",
          "name": "stdout",
          "text": [
            "[[88800 89300 89900 88000]\n",
            " [90600 88800 91400 88800]\n",
            " [91000 90700 91400 90500]\n",
            " ...\n",
            " [96000 98000 98500 96000]\n",
            " [96000 96000 97000 95000]\n",
            " [96000 96000 96500 95500]]\n"
          ]
        }
      ]
    },
    {
      "cell_type": "code",
      "metadata": {
        "id": "1isPES9TgVzD"
      },
      "source": [
        "from sklearn.preprocessing import MinMaxScaler\n",
        "sc = MinMaxScaler(feature_range = (0, 1))\n",
        "training_set_scaled = sc.fit_transform(training_set)"
      ],
      "execution_count": 5,
      "outputs": []
    },
    {
      "cell_type": "code",
      "metadata": {
        "colab": {
          "base_uri": "https://localhost:8080/"
        },
        "id": "kXaroq1xg-CR",
        "outputId": "0da048da-e74d-4cc6-b7bd-2b5a9f6192fa"
      },
      "source": [
        "print(\"Dữ liệu 60 ngày đầu:\\n\",training_set_scaled[0:60])\n",
        "print(\"Lấy cột 'Cao nhất' của ngày 61 làm Label của 60 ngày đầu:\\n\",training_set_scaled[60], \"=>\", training_set_scaled[60,2])"
      ],
      "execution_count": 13,
      "outputs": [
        {
          "output_type": "stream",
          "name": "stdout",
          "text": [
            "Dữ liệu 60 ngày đầu:\n",
            " [[0.03899083 0.04271548 0.03769231 0.03323029]\n",
            " [0.05275229 0.0389016  0.04923077 0.03941267]\n",
            " [0.0558104  0.05339436 0.04923077 0.05255023]\n",
            " [0.05963303 0.05415713 0.05692308 0.05177743]\n",
            " [0.03669725 0.05949657 0.05153846 0.03709428]\n",
            " [0.03287462 0.0389016  0.03       0.0309119 ]\n",
            " [0.02981651 0.03813883 0.03153846 0.02782071]\n",
            " [0.0206422  0.02135774 0.02615385 0.02009274]\n",
            " [0.02140673 0.02059497 0.01153846 0.01700155]\n",
            " [0.02370031 0.01830664 0.01384615 0.01854714]\n",
            " [0.02675841 0.02517162 0.01769231 0.02241113]\n",
            " [0.02140673 0.02669718 0.01846154 0.02009274]\n",
            " [0.01146789 0.02135774 0.01538462 0.01004637]\n",
            " [0.01299694 0.01144165 0.00384615 0.01004637]\n",
            " [0.01987768 0.0129672  0.01       0.01236476]\n",
            " [0.03134557 0.01983219 0.02153846 0.02009274]\n",
            " [0.0351682  0.03508772 0.02923077 0.03477589]\n",
            " [0.02828746 0.03356217 0.02923077 0.02704791]\n",
            " [0.02905199 0.02822273 0.02       0.02627512]\n",
            " [0.02599388 0.02822273 0.02       0.02550232]\n",
            " [0.02828746 0.02517162 0.01923077 0.02318393]\n",
            " [0.02446483 0.02517162 0.02076923 0.02318393]\n",
            " [0.0206422  0.02440885 0.01615385 0.01777434]\n",
            " [0.01834862 0.01983219 0.01538462 0.01545595]\n",
            " [0.03058104 0.01754386 0.02153846 0.01777434]\n",
            " [0.05045872 0.03127384 0.04076923 0.02550232]\n",
            " [0.05198777 0.05034325 0.04230769 0.04714065]\n",
            " [0.04434251 0.04805492 0.04538462 0.04404946]\n",
            " [0.04510703 0.04271548 0.03923077 0.04173107]\n",
            " [0.04740061 0.04424104 0.04307692 0.04095827]\n",
            " [0.05122324 0.04729214 0.04230769 0.04250386]\n",
            " [0.05428135 0.0518688  0.05       0.05100464]\n",
            " [0.04740061 0.05491991 0.04923077 0.04714065]\n",
            " [0.03287462 0.04347826 0.03846154 0.03323029]\n",
            " [0.02675841 0.03051106 0.02230769 0.02550232]\n",
            " [0.02446483 0.02669718 0.02615385 0.02241113]\n",
            " [0.02446483 0.02212052 0.01615385 0.02241113]\n",
            " [0.02905199 0.0259344  0.01923077 0.02550232]\n",
            " [0.02217125 0.0259344  0.01923077 0.02241113]\n",
            " [0.01911315 0.02135774 0.01461538 0.01777434]\n",
            " [0.02370031 0.01830664 0.01692308 0.01700155]\n",
            " [0.02522936 0.02364607 0.02076923 0.01777434]\n",
            " [0.02599388 0.02440885 0.01846154 0.02241113]\n",
            " [0.03975535 0.02898551 0.03461538 0.02936631]\n",
            " [0.03287462 0.03966438 0.03230769 0.0324575 ]\n",
            " [0.02370031 0.02974828 0.03692308 0.01854714]\n",
            " [0.01376147 0.02364607 0.01615385 0.01236476]\n",
            " [0.01299694 0.01220442 0.00692308 0.01159196]\n",
            " [0.00993884 0.01678108 0.00769231 0.00463679]\n",
            " [0.00535168 0.00991609 0.         0.00231839]\n",
            " [0.01376147 0.01678108 0.00923077 0.01236476]\n",
            " [0.00993884 0.01144165 0.01       0.00618238]\n",
            " [0.00993884 0.00991609 0.00538462 0.00463679]\n",
            " [0.01834862 0.00457666 0.01153846 0.00386399]\n",
            " [0.02905199 0.01983219 0.02307692 0.00463679]\n",
            " [0.0351682  0.02517162 0.02615385 0.02472952]\n",
            " [0.03440367 0.0358505  0.03384615 0.03323029]\n",
            " [0.02522936 0.04652937 0.03692308 0.02241113]\n",
            " [0.04357798 0.02517162 0.03692308 0.02550232]\n",
            " [0.04892966 0.04195271 0.04153846 0.03786708]]\n",
            "Lấy cột 'Cao nhất' của ngày 61 làm Label của 60 ngày đầu:\n",
            " [0.0558104  0.0488177  0.04615385 0.04945904] => 0.0461538461538461\n"
          ]
        }
      ]
    },
    {
      "cell_type": "code",
      "metadata": {
        "id": "tzRF7wBRhVsk"
      },
      "source": [
        "train_x = []\n",
        "train_y = []\n",
        "num_of_sample = len(training_set)\n",
        "\n",
        "#60 ngày một lần, ngày 61 là label của 60 ngày trước - bài toán dự đoán\n",
        "for i in range(60, num_of_sample):\n",
        "    train_x.append(training_set_scaled[i-60:i])\n",
        "    train_y.append(training_set_scaled[i,2])"
      ],
      "execution_count": null,
      "outputs": []
    },
    {
      "cell_type": "code",
      "metadata": {
        "id": "QSSSsAF-hnkV"
      },
      "source": [
        "train_x, train_y = np.array(train_x), np.array(train_y)"
      ],
      "execution_count": null,
      "outputs": []
    },
    {
      "cell_type": "code",
      "metadata": {
        "id": "DRkZMF34j1xR"
      },
      "source": [
        "train_x = np.reshape(train_x, (train_x.shape[0], train_x.shape[1], 4))"
      ],
      "execution_count": null,
      "outputs": []
    },
    {
      "cell_type": "code",
      "metadata": {
        "id": "DDNu26gkkO7F"
      },
      "source": [
        "train_x, test_x, train_y, test_y = train_test_split(train_x, train_y, test_size = 0.05)"
      ],
      "execution_count": null,
      "outputs": []
    },
    {
      "cell_type": "code",
      "metadata": {
        "id": "ewK3OOX8lXrz"
      },
      "source": [
        "regressor = Sequential()\n",
        "regressor.add(LSTM(50, return_sequences=True, input_shape=(train_x.shape[1],4)))\n",
        "regressor.add(Dropout(0.2))\n",
        "regressor.add(LSTM(50, return_sequences=True))\n",
        "regressor.add(Dropout(0.2))\n",
        "regressor.add(LSTM(50, return_sequences=True))\n",
        "regressor.add(Dropout(0.2))\n",
        "regressor.add(LSTM(50))\n",
        "regressor.add(Dropout(0.2))\n",
        "regressor.add(Dense(1))\n",
        "regressor.compile(optimizer=\"adam\", loss=\"mean_squared_error\")"
      ],
      "execution_count": null,
      "outputs": []
    },
    {
      "cell_type": "code",
      "metadata": {
        "colab": {
          "base_uri": "https://localhost:8080/"
        },
        "id": "BEKXoCoFnBU4",
        "outputId": "93a84234-252d-4152-905d-a4bd4241ee2d"
      },
      "source": [
        "regressor.summary()"
      ],
      "execution_count": null,
      "outputs": [
        {
          "output_type": "stream",
          "name": "stdout",
          "text": [
            "Model: \"sequential\"\n",
            "_________________________________________________________________\n",
            "Layer (type)                 Output Shape              Param #   \n",
            "=================================================================\n",
            "lstm (LSTM)                  (None, 60, 50)            11000     \n",
            "_________________________________________________________________\n",
            "dropout (Dropout)            (None, 60, 50)            0         \n",
            "_________________________________________________________________\n",
            "lstm_1 (LSTM)                (None, 60, 50)            20200     \n",
            "_________________________________________________________________\n",
            "dropout_1 (Dropout)          (None, 60, 50)            0         \n",
            "_________________________________________________________________\n",
            "lstm_2 (LSTM)                (None, 60, 50)            20200     \n",
            "_________________________________________________________________\n",
            "dropout_2 (Dropout)          (None, 60, 50)            0         \n",
            "_________________________________________________________________\n",
            "lstm_3 (LSTM)                (None, 50)                20200     \n",
            "_________________________________________________________________\n",
            "dropout_3 (Dropout)          (None, 50)                0         \n",
            "_________________________________________________________________\n",
            "dense (Dense)                (None, 1)                 51        \n",
            "=================================================================\n",
            "Total params: 71,651\n",
            "Trainable params: 71,651\n",
            "Non-trainable params: 0\n",
            "_________________________________________________________________\n"
          ]
        }
      ]
    },
    {
      "cell_type": "code",
      "metadata": {
        "colab": {
          "base_uri": "https://localhost:8080/"
        },
        "id": "Qym1oEIfnaYn",
        "outputId": "99dc103b-330a-4370-e1be-d22032f7b3f1"
      },
      "source": [
        "regressor.fit(train_x, train_y, epochs=100, batch_size=8)"
      ],
      "execution_count": null,
      "outputs": [
        {
          "output_type": "stream",
          "name": "stdout",
          "text": [
            "Epoch 1/100\n",
            "193/193 [==============================] - 22s 57ms/step - loss: 0.0095\n",
            "Epoch 2/100\n",
            "193/193 [==============================] - 11s 57ms/step - loss: 0.0052\n",
            "Epoch 3/100\n",
            "193/193 [==============================] - 11s 58ms/step - loss: 0.0041\n",
            "Epoch 4/100\n",
            "193/193 [==============================] - 11s 57ms/step - loss: 0.0037\n",
            "Epoch 5/100\n",
            "193/193 [==============================] - 11s 57ms/step - loss: 0.0034\n",
            "Epoch 6/100\n",
            "193/193 [==============================] - 11s 57ms/step - loss: 0.0034\n",
            "Epoch 7/100\n",
            "193/193 [==============================] - 11s 57ms/step - loss: 0.0031\n",
            "Epoch 8/100\n",
            "193/193 [==============================] - 11s 57ms/step - loss: 0.0027\n",
            "Epoch 9/100\n",
            "193/193 [==============================] - 11s 57ms/step - loss: 0.0023\n",
            "Epoch 10/100\n",
            "193/193 [==============================] - 11s 57ms/step - loss: 0.0024\n",
            "Epoch 11/100\n",
            "193/193 [==============================] - 11s 57ms/step - loss: 0.0022\n",
            "Epoch 12/100\n",
            "193/193 [==============================] - 11s 57ms/step - loss: 0.0019\n",
            "Epoch 13/100\n",
            "193/193 [==============================] - 11s 57ms/step - loss: 0.0019\n",
            "Epoch 14/100\n",
            "193/193 [==============================] - 11s 57ms/step - loss: 0.0017\n",
            "Epoch 15/100\n",
            "193/193 [==============================] - 11s 57ms/step - loss: 0.0017\n",
            "Epoch 16/100\n",
            "193/193 [==============================] - 11s 57ms/step - loss: 0.0017\n",
            "Epoch 17/100\n",
            "193/193 [==============================] - 11s 57ms/step - loss: 0.0016\n",
            "Epoch 18/100\n",
            "193/193 [==============================] - 11s 57ms/step - loss: 0.0017\n",
            "Epoch 19/100\n",
            "193/193 [==============================] - 11s 57ms/step - loss: 0.0017\n",
            "Epoch 20/100\n",
            "193/193 [==============================] - 11s 57ms/step - loss: 0.0013\n",
            "Epoch 21/100\n",
            "193/193 [==============================] - 11s 57ms/step - loss: 0.0014\n",
            "Epoch 22/100\n",
            "193/193 [==============================] - 11s 57ms/step - loss: 0.0014\n",
            "Epoch 23/100\n",
            "193/193 [==============================] - 11s 57ms/step - loss: 0.0012\n",
            "Epoch 24/100\n",
            "193/193 [==============================] - 11s 57ms/step - loss: 0.0012\n",
            "Epoch 25/100\n",
            "193/193 [==============================] - 11s 57ms/step - loss: 0.0014\n",
            "Epoch 26/100\n",
            "193/193 [==============================] - 11s 57ms/step - loss: 0.0013\n",
            "Epoch 27/100\n",
            "193/193 [==============================] - 11s 57ms/step - loss: 0.0012\n",
            "Epoch 28/100\n",
            "193/193 [==============================] - 11s 57ms/step - loss: 0.0014\n",
            "Epoch 29/100\n",
            "193/193 [==============================] - 11s 57ms/step - loss: 0.0011\n",
            "Epoch 30/100\n",
            "193/193 [==============================] - 11s 57ms/step - loss: 0.0012\n",
            "Epoch 31/100\n",
            "193/193 [==============================] - 11s 57ms/step - loss: 0.0011\n",
            "Epoch 32/100\n",
            "193/193 [==============================] - 11s 57ms/step - loss: 0.0010\n",
            "Epoch 33/100\n",
            "193/193 [==============================] - 11s 57ms/step - loss: 0.0011\n",
            "Epoch 34/100\n",
            "193/193 [==============================] - 11s 57ms/step - loss: 0.0011\n",
            "Epoch 35/100\n",
            "193/193 [==============================] - 11s 57ms/step - loss: 0.0011\n",
            "Epoch 36/100\n",
            "193/193 [==============================] - 11s 57ms/step - loss: 9.5497e-04\n",
            "Epoch 37/100\n",
            "193/193 [==============================] - 11s 57ms/step - loss: 0.0010\n",
            "Epoch 38/100\n",
            "193/193 [==============================] - 11s 57ms/step - loss: 0.0010\n",
            "Epoch 39/100\n",
            "193/193 [==============================] - 11s 57ms/step - loss: 9.3334e-04\n",
            "Epoch 40/100\n",
            "193/193 [==============================] - 11s 57ms/step - loss: 9.9702e-04\n",
            "Epoch 41/100\n",
            "193/193 [==============================] - 11s 57ms/step - loss: 9.5689e-04\n",
            "Epoch 42/100\n",
            "193/193 [==============================] - 11s 57ms/step - loss: 9.6638e-04\n",
            "Epoch 43/100\n",
            "193/193 [==============================] - 11s 57ms/step - loss: 8.5312e-04\n",
            "Epoch 44/100\n",
            "193/193 [==============================] - 11s 57ms/step - loss: 9.2186e-04\n",
            "Epoch 45/100\n",
            "193/193 [==============================] - 11s 57ms/step - loss: 8.7696e-04\n",
            "Epoch 46/100\n",
            "193/193 [==============================] - 11s 57ms/step - loss: 9.3746e-04\n",
            "Epoch 47/100\n",
            "193/193 [==============================] - 11s 57ms/step - loss: 9.2641e-04\n",
            "Epoch 48/100\n",
            "193/193 [==============================] - 11s 57ms/step - loss: 8.7736e-04\n",
            "Epoch 49/100\n",
            "193/193 [==============================] - 11s 57ms/step - loss: 9.8833e-04\n",
            "Epoch 50/100\n",
            "193/193 [==============================] - 11s 57ms/step - loss: 0.0010\n",
            "Epoch 51/100\n",
            "193/193 [==============================] - 11s 57ms/step - loss: 9.9684e-04\n",
            "Epoch 52/100\n",
            "193/193 [==============================] - 11s 57ms/step - loss: 8.1560e-04\n",
            "Epoch 53/100\n",
            "193/193 [==============================] - 11s 56ms/step - loss: 9.0882e-04\n",
            "Epoch 54/100\n",
            "193/193 [==============================] - 11s 58ms/step - loss: 8.1951e-04\n",
            "Epoch 55/100\n",
            "193/193 [==============================] - 11s 57ms/step - loss: 7.5064e-04\n",
            "Epoch 56/100\n",
            "193/193 [==============================] - 11s 57ms/step - loss: 7.8965e-04\n",
            "Epoch 57/100\n",
            "193/193 [==============================] - 11s 57ms/step - loss: 8.2894e-04\n",
            "Epoch 58/100\n",
            "193/193 [==============================] - 11s 57ms/step - loss: 9.8243e-04\n",
            "Epoch 59/100\n",
            "193/193 [==============================] - 11s 57ms/step - loss: 9.4597e-04\n",
            "Epoch 60/100\n",
            "193/193 [==============================] - 11s 57ms/step - loss: 8.4877e-04\n",
            "Epoch 61/100\n",
            "193/193 [==============================] - 11s 57ms/step - loss: 7.3864e-04\n",
            "Epoch 62/100\n",
            "193/193 [==============================] - 11s 57ms/step - loss: 8.5035e-04\n",
            "Epoch 63/100\n",
            "193/193 [==============================] - 11s 57ms/step - loss: 7.2891e-04\n",
            "Epoch 64/100\n",
            "193/193 [==============================] - 11s 57ms/step - loss: 8.2538e-04\n",
            "Epoch 65/100\n",
            "193/193 [==============================] - 11s 57ms/step - loss: 9.0450e-04\n",
            "Epoch 66/100\n",
            "193/193 [==============================] - 11s 56ms/step - loss: 8.2532e-04\n",
            "Epoch 67/100\n",
            "193/193 [==============================] - 11s 57ms/step - loss: 7.7781e-04\n",
            "Epoch 68/100\n",
            "193/193 [==============================] - 11s 57ms/step - loss: 7.7988e-04\n",
            "Epoch 69/100\n",
            "193/193 [==============================] - 11s 57ms/step - loss: 7.4390e-04\n",
            "Epoch 70/100\n",
            "193/193 [==============================] - 11s 57ms/step - loss: 8.2460e-04\n",
            "Epoch 71/100\n",
            "193/193 [==============================] - 11s 57ms/step - loss: 7.7750e-04\n",
            "Epoch 72/100\n",
            "193/193 [==============================] - 11s 57ms/step - loss: 8.3726e-04\n",
            "Epoch 73/100\n",
            "193/193 [==============================] - 11s 57ms/step - loss: 8.8386e-04\n",
            "Epoch 74/100\n",
            "193/193 [==============================] - 11s 57ms/step - loss: 8.6576e-04\n",
            "Epoch 75/100\n",
            "193/193 [==============================] - 11s 58ms/step - loss: 8.0397e-04\n",
            "Epoch 76/100\n",
            "193/193 [==============================] - 11s 57ms/step - loss: 7.1225e-04\n",
            "Epoch 77/100\n",
            "193/193 [==============================] - 11s 57ms/step - loss: 7.6201e-04\n",
            "Epoch 78/100\n",
            "193/193 [==============================] - 11s 57ms/step - loss: 6.9600e-04\n",
            "Epoch 79/100\n",
            "193/193 [==============================] - 11s 57ms/step - loss: 8.6236e-04\n",
            "Epoch 80/100\n",
            "193/193 [==============================] - 11s 57ms/step - loss: 7.7118e-04\n",
            "Epoch 81/100\n",
            "193/193 [==============================] - 11s 56ms/step - loss: 7.2507e-04\n",
            "Epoch 82/100\n",
            "193/193 [==============================] - 11s 57ms/step - loss: 6.5106e-04\n",
            "Epoch 83/100\n",
            "193/193 [==============================] - 11s 57ms/step - loss: 7.4836e-04\n",
            "Epoch 84/100\n",
            "193/193 [==============================] - 11s 57ms/step - loss: 7.9739e-04\n",
            "Epoch 85/100\n",
            "193/193 [==============================] - 11s 56ms/step - loss: 7.7135e-04\n",
            "Epoch 86/100\n",
            "193/193 [==============================] - 11s 57ms/step - loss: 7.9792e-04\n",
            "Epoch 87/100\n",
            "193/193 [==============================] - 11s 57ms/step - loss: 6.7199e-04\n",
            "Epoch 88/100\n",
            "193/193 [==============================] - 11s 57ms/step - loss: 6.3066e-04\n",
            "Epoch 89/100\n",
            "193/193 [==============================] - 11s 57ms/step - loss: 6.7117e-04\n",
            "Epoch 90/100\n",
            "193/193 [==============================] - 11s 57ms/step - loss: 7.1223e-04\n",
            "Epoch 91/100\n",
            "193/193 [==============================] - 11s 57ms/step - loss: 8.7821e-04\n",
            "Epoch 92/100\n",
            "193/193 [==============================] - 11s 57ms/step - loss: 7.7952e-04\n",
            "Epoch 93/100\n",
            "193/193 [==============================] - 11s 57ms/step - loss: 7.4511e-04\n",
            "Epoch 94/100\n",
            "193/193 [==============================] - 11s 57ms/step - loss: 6.6903e-04\n",
            "Epoch 95/100\n",
            "193/193 [==============================] - 11s 57ms/step - loss: 7.9072e-04\n",
            "Epoch 96/100\n",
            "193/193 [==============================] - 11s 58ms/step - loss: 7.5410e-04\n",
            "Epoch 97/100\n",
            "193/193 [==============================] - 11s 57ms/step - loss: 7.0870e-04\n",
            "Epoch 98/100\n",
            "193/193 [==============================] - 11s 57ms/step - loss: 7.1974e-04\n",
            "Epoch 99/100\n",
            "193/193 [==============================] - 11s 57ms/step - loss: 6.9944e-04\n",
            "Epoch 100/100\n",
            "193/193 [==============================] - 11s 57ms/step - loss: 7.5582e-04\n"
          ]
        },
        {
          "output_type": "execute_result",
          "data": {
            "text/plain": [
              "<keras.callbacks.History at 0x7fe930644210>"
            ]
          },
          "metadata": {},
          "execution_count": 13
        }
      ]
    },
    {
      "cell_type": "code",
      "metadata": {
        "id": "Y24lHsgun-YE"
      },
      "source": [
        "predicted_stock_price = regressor.predict(test_x).reshape(-1)"
      ],
      "execution_count": null,
      "outputs": []
    },
    {
      "cell_type": "code",
      "metadata": {
        "colab": {
          "base_uri": "https://localhost:8080/",
          "height": 251
        },
        "id": "1HRKDosonPeT",
        "outputId": "23985329-9104-4e77-f46f-9bdc4fdd452d"
      },
      "source": [
        "_, ax = plt.subplots(1,1, figsize=(20,5))\n",
        "ax.plot(test_y,color=\"red\",label=\"Real VCB Stock Price\")\n",
        "ax.plot(predicted_stock_price,color=\"blue\",label=\"Predicted VCB Stock Price\")\n",
        "ax.set_title(\"VCB Stock Price Prediction\")\n",
        "ax.set_xlabel(\"Time\")\n",
        "ax.set_ylabel('VCB Stock Price')\n",
        "ax.legend()\n",
        "plt.show()"
      ],
      "execution_count": null,
      "outputs": [
        {
          "output_type": "display_data",
          "data": {
            "image/png": "[encoded data removed]",
            "text/plain": [
              "<Figure size 1440x360 with 1 Axes>"
            ]
          },
          "metadata": {
            "needs_background": "light"
          }
        }
      ]
    }
  ]
}